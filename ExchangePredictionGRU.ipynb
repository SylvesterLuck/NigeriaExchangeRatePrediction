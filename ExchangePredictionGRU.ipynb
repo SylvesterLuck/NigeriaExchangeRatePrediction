{
 "cells": [
  {
   "cell_type": "code",
   "execution_count": 1,
   "id": "c069470b",
   "metadata": {},
   "outputs": [
    {
     "name": "stderr",
     "output_type": "stream",
     "text": [
      "D:\\ForeignExchange\\foreignexchange\\lib\\site-packages\\numpy\\_distributor_init.py:30: UserWarning: loaded more than 1 DLL from .libs:\n",
      "D:\\ForeignExchange\\foreignexchange\\lib\\site-packages\\numpy\\.libs\\libopenblas.FB5AE2TYXYH2IJRDKGDGQ3XBKLKTF43H.gfortran-win_amd64.dll\n",
      "D:\\ForeignExchange\\foreignexchange\\lib\\site-packages\\numpy\\.libs\\libopenblas64__v0.3.21-gcc_10_3_0.dll\n",
      "  warnings.warn(\"loaded more than 1 DLL from .libs:\"\n"
     ]
    }
   ],
   "source": [
    "import pandas as pd\n",
    "import numpy as np\n",
    "%matplotlib inline\n",
    "import matplotlib.pyplot as plt\n",
    "import sklearn.metrics as metrics\n",
    "from sklearn.preprocessing import StandardScaler\n",
    "from sklearn.metrics import r2_score\n",
    "from keras.models import Sequential\n",
    "import tensorflow as tf\n",
    "from keras.layers import Dense\n",
    "import keras.backend as K\n",
    "from keras.callbacks import EarlyStopping\n",
    "from keras.optimizers import Adam\n",
    "from keras.layers import Dropout\n",
    "def adj_r2_score(r2, n, k):\n",
    "    return 1-((1-r2)*((n-1)/(n-k-1)))"
   ]
  },
  {
   "cell_type": "code",
   "execution_count": 2,
   "id": "35f811a2",
   "metadata": {},
   "outputs": [
    {
     "data": {
      "text/html": [
       "<div>\n",
       "<style scoped>\n",
       "    .dataframe tbody tr th:only-of-type {\n",
       "        vertical-align: middle;\n",
       "    }\n",
       "\n",
       "    .dataframe tbody tr th {\n",
       "        vertical-align: top;\n",
       "    }\n",
       "\n",
       "    .dataframe thead th {\n",
       "        text-align: right;\n",
       "    }\n",
       "</style>\n",
       "<table border=\"1\" class=\"dataframe\">\n",
       "  <thead>\n",
       "    <tr style=\"text-align: right;\">\n",
       "      <th></th>\n",
       "      <th>Date</th>\n",
       "      <th>Open</th>\n",
       "      <th>High</th>\n",
       "      <th>Low</th>\n",
       "      <th>Close</th>\n",
       "      <th>Adj Close</th>\n",
       "      <th>Volume</th>\n",
       "    </tr>\n",
       "  </thead>\n",
       "  <tbody>\n",
       "    <tr>\n",
       "      <th>0</th>\n",
       "      <td>12/1/2003</td>\n",
       "      <td>140.000000</td>\n",
       "      <td>140.000000</td>\n",
       "      <td>140.000000</td>\n",
       "      <td>140.0</td>\n",
       "      <td>140.0</td>\n",
       "      <td>0</td>\n",
       "    </tr>\n",
       "    <tr>\n",
       "      <th>1</th>\n",
       "      <td>12/2/2003</td>\n",
       "      <td>138.479996</td>\n",
       "      <td>138.479996</td>\n",
       "      <td>138.479996</td>\n",
       "      <td>140.0</td>\n",
       "      <td>140.0</td>\n",
       "      <td>0</td>\n",
       "    </tr>\n",
       "    <tr>\n",
       "      <th>2</th>\n",
       "      <td>12/3/2003</td>\n",
       "      <td>135.850006</td>\n",
       "      <td>135.850006</td>\n",
       "      <td>135.850006</td>\n",
       "      <td>140.0</td>\n",
       "      <td>140.0</td>\n",
       "      <td>0</td>\n",
       "    </tr>\n",
       "    <tr>\n",
       "      <th>3</th>\n",
       "      <td>12/4/2003</td>\n",
       "      <td>135.880005</td>\n",
       "      <td>140.000000</td>\n",
       "      <td>135.880005</td>\n",
       "      <td>140.0</td>\n",
       "      <td>140.0</td>\n",
       "      <td>0</td>\n",
       "    </tr>\n",
       "    <tr>\n",
       "      <th>4</th>\n",
       "      <td>12/5/2003</td>\n",
       "      <td>135.820007</td>\n",
       "      <td>138.500000</td>\n",
       "      <td>135.820007</td>\n",
       "      <td>138.5</td>\n",
       "      <td>138.5</td>\n",
       "      <td>0</td>\n",
       "    </tr>\n",
       "  </tbody>\n",
       "</table>\n",
       "</div>"
      ],
      "text/plain": [
       "        Date        Open        High         Low  Close  Adj Close  Volume\n",
       "0  12/1/2003  140.000000  140.000000  140.000000  140.0      140.0       0\n",
       "1  12/2/2003  138.479996  138.479996  138.479996  140.0      140.0       0\n",
       "2  12/3/2003  135.850006  135.850006  135.850006  140.0      140.0       0\n",
       "3  12/4/2003  135.880005  140.000000  135.880005  140.0      140.0       0\n",
       "4  12/5/2003  135.820007  138.500000  135.820007  138.5      138.5       0"
      ]
     },
     "execution_count": 2,
     "metadata": {},
     "output_type": "execute_result"
    }
   ],
   "source": [
    "#reading dataset\n",
    "exchange_data = pd.read_csv('data/USDNGN3.csv')\n",
    "exchange_data.head()"
   ]
  },
  {
   "cell_type": "code",
   "execution_count": 3,
   "id": "e2dcc91b",
   "metadata": {},
   "outputs": [],
   "source": [
    "exchange_data[\"Date\"] = pd.to_datetime(exchange_data[\"Date\"])\n",
    "ngn_exchange_data = exchange_data.set_index([\"Date\"], drop=True)"
   ]
  },
  {
   "cell_type": "code",
   "execution_count": 4,
   "id": "8b4495ae",
   "metadata": {},
   "outputs": [
    {
     "data": {
      "text/html": [
       "<div>\n",
       "<style scoped>\n",
       "    .dataframe tbody tr th:only-of-type {\n",
       "        vertical-align: middle;\n",
       "    }\n",
       "\n",
       "    .dataframe tbody tr th {\n",
       "        vertical-align: top;\n",
       "    }\n",
       "\n",
       "    .dataframe thead th {\n",
       "        text-align: right;\n",
       "    }\n",
       "</style>\n",
       "<table border=\"1\" class=\"dataframe\">\n",
       "  <thead>\n",
       "    <tr style=\"text-align: right;\">\n",
       "      <th></th>\n",
       "      <th>Open</th>\n",
       "      <th>High</th>\n",
       "      <th>Low</th>\n",
       "      <th>Close</th>\n",
       "      <th>Adj Close</th>\n",
       "      <th>Volume</th>\n",
       "    </tr>\n",
       "    <tr>\n",
       "      <th>Date</th>\n",
       "      <th></th>\n",
       "      <th></th>\n",
       "      <th></th>\n",
       "      <th></th>\n",
       "      <th></th>\n",
       "      <th></th>\n",
       "    </tr>\n",
       "  </thead>\n",
       "  <tbody>\n",
       "    <tr>\n",
       "      <th>2003-12-01</th>\n",
       "      <td>140.000000</td>\n",
       "      <td>140.000000</td>\n",
       "      <td>140.000000</td>\n",
       "      <td>140.0</td>\n",
       "      <td>140.0</td>\n",
       "      <td>0</td>\n",
       "    </tr>\n",
       "    <tr>\n",
       "      <th>2003-12-02</th>\n",
       "      <td>138.479996</td>\n",
       "      <td>138.479996</td>\n",
       "      <td>138.479996</td>\n",
       "      <td>140.0</td>\n",
       "      <td>140.0</td>\n",
       "      <td>0</td>\n",
       "    </tr>\n",
       "    <tr>\n",
       "      <th>2003-12-03</th>\n",
       "      <td>135.850006</td>\n",
       "      <td>135.850006</td>\n",
       "      <td>135.850006</td>\n",
       "      <td>140.0</td>\n",
       "      <td>140.0</td>\n",
       "      <td>0</td>\n",
       "    </tr>\n",
       "    <tr>\n",
       "      <th>2003-12-04</th>\n",
       "      <td>135.880005</td>\n",
       "      <td>140.000000</td>\n",
       "      <td>135.880005</td>\n",
       "      <td>140.0</td>\n",
       "      <td>140.0</td>\n",
       "      <td>0</td>\n",
       "    </tr>\n",
       "    <tr>\n",
       "      <th>2003-12-05</th>\n",
       "      <td>135.820007</td>\n",
       "      <td>138.500000</td>\n",
       "      <td>135.820007</td>\n",
       "      <td>138.5</td>\n",
       "      <td>138.5</td>\n",
       "      <td>0</td>\n",
       "    </tr>\n",
       "  </tbody>\n",
       "</table>\n",
       "</div>"
      ],
      "text/plain": [
       "                  Open        High         Low  Close  Adj Close  Volume\n",
       "Date                                                                    \n",
       "2003-12-01  140.000000  140.000000  140.000000  140.0      140.0       0\n",
       "2003-12-02  138.479996  138.479996  138.479996  140.0      140.0       0\n",
       "2003-12-03  135.850006  135.850006  135.850006  140.0      140.0       0\n",
       "2003-12-04  135.880005  140.000000  135.880005  140.0      140.0       0\n",
       "2003-12-05  135.820007  138.500000  135.820007  138.5      138.5       0"
      ]
     },
     "execution_count": 4,
     "metadata": {},
     "output_type": "execute_result"
    }
   ],
   "source": [
    "#checking first few records of the dataset\n",
    "ngn_exchange_data.head()"
   ]
  },
  {
   "cell_type": "code",
   "execution_count": 5,
   "id": "6003bc8b",
   "metadata": {},
   "outputs": [
    {
     "data": {
      "text/plain": [
       "<AxesSubplot:xlabel='Date'>"
      ]
     },
     "execution_count": 5,
     "metadata": {},
     "output_type": "execute_result"
    },
    {
     "data": {
      "image/png": "[encoded data removed]",
      "text/plain": [
       "<Figure size 864x504 with 1 Axes>"
      ]
     },
     "metadata": {
      "needs_background": "light"
     },
     "output_type": "display_data"
    }
   ],
   "source": [
    "\n",
    "df = ngn_exchange_data[[\"Close\"]]\n",
    "\n",
    "#plotting dataset to visualize the pattern of prices over the years\n",
    "\n",
    "df.plot(kind='line',figsize=(12,7))"
   ]
  },
  {
   "cell_type": "code",
   "execution_count": 6,
   "id": "f2e8349f",
   "metadata": {},
   "outputs": [
    {
     "name": "stdout",
     "output_type": "stream",
     "text": [
      "Total data: 19 years\n",
      "60 percent data = 2003 to 2014\n"
     ]
    }
   ],
   "source": [
    "\n",
    "diff = df.index.values[-1] - df.index.values[0]\n",
    "days = diff.astype('timedelta64[D]')\n",
    "days = days / np.timedelta64(1, 'D')\n",
    "years = int(days/365)\n",
    "print(\"Total data: %d years\"%years)\n",
    "print(\"60 percent data = 2003 to %d\"%(2003 + int(0.6*years)))"
   ]
  },
  {
   "cell_type": "code",
   "execution_count": 7,
   "id": "16b33865",
   "metadata": {},
   "outputs": [
    {
     "data": {
      "text/html": [
       "<div>\n",
       "<style scoped>\n",
       "    .dataframe tbody tr th:only-of-type {\n",
       "        vertical-align: middle;\n",
       "    }\n",
       "\n",
       "    .dataframe tbody tr th {\n",
       "        vertical-align: top;\n",
       "    }\n",
       "\n",
       "    .dataframe thead th {\n",
       "        text-align: right;\n",
       "    }\n",
       "</style>\n",
       "<table border=\"1\" class=\"dataframe\">\n",
       "  <thead>\n",
       "    <tr style=\"text-align: right;\">\n",
       "      <th></th>\n",
       "      <th>Close</th>\n",
       "    </tr>\n",
       "  </thead>\n",
       "  <tbody>\n",
       "    <tr>\n",
       "      <th>count</th>\n",
       "      <td>5035.000000</td>\n",
       "    </tr>\n",
       "    <tr>\n",
       "      <th>mean</th>\n",
       "      <td>227.422156</td>\n",
       "    </tr>\n",
       "    <tr>\n",
       "      <th>std</th>\n",
       "      <td>111.592091</td>\n",
       "    </tr>\n",
       "    <tr>\n",
       "      <th>min</th>\n",
       "      <td>112.910004</td>\n",
       "    </tr>\n",
       "    <tr>\n",
       "      <th>25%</th>\n",
       "      <td>135.400002</td>\n",
       "    </tr>\n",
       "    <tr>\n",
       "      <th>50%</th>\n",
       "      <td>159.600006</td>\n",
       "    </tr>\n",
       "    <tr>\n",
       "      <th>75%</th>\n",
       "      <td>358.000000</td>\n",
       "    </tr>\n",
       "    <tr>\n",
       "      <th>max</th>\n",
       "      <td>462.000000</td>\n",
       "    </tr>\n",
       "  </tbody>\n",
       "</table>\n",
       "</div>"
      ],
      "text/plain": [
       "             Close\n",
       "count  5035.000000\n",
       "mean    227.422156\n",
       "std     111.592091\n",
       "min     112.910004\n",
       "25%     135.400002\n",
       "50%     159.600006\n",
       "75%     358.000000\n",
       "max     462.000000"
      ]
     },
     "execution_count": 7,
     "metadata": {},
     "output_type": "execute_result"
    }
   ],
   "source": [
    "df.describe()"
   ]
  },
  {
   "cell_type": "code",
   "execution_count": 8,
   "id": "cb536bd9",
   "metadata": {},
   "outputs": [
    {
     "name": "stderr",
     "output_type": "stream",
     "text": [
      "D:\\ForeignExchange\\foreignexchange\\lib\\site-packages\\IPython\\core\\interactiveshell.py:3135: UserWarning: Parsing '16-07-2015' in DD/MM/YYYY format. Provide format or specify infer_datetime_format=True for consistent parsing.\n",
      "  has_raised = await self.run_ast_nodes(code_ast.body, cell_name,\n"
     ]
    },
    {
     "data": {
      "text/plain": [
       "<matplotlib.legend.Legend at 0x1f92b80c190>"
      ]
     },
     "execution_count": 8,
     "metadata": {},
     "output_type": "execute_result"
    },
    {
     "data": {
      "image/png": "[encoded data removed]",
      "text/plain": [
       "<Figure size 864x576 with 1 Axes>"
      ]
     },
     "metadata": {
      "needs_background": "light"
     },
     "output_type": "display_data"
    }
   ],
   "source": [
    "split_date = pd.Timestamp('16-07-2015')\n",
    "\n",
    "train = df.loc[:split_date]\n",
    "test = df.loc[split_date:]\n",
    "\n",
    "ax = train.plot(kind='line',figsize=(12,8))\n",
    "test.plot(ax=ax,kind='line',figsize=(12,8))\n",
    "plt.legend(['train', 'test'])"
   ]
  },
  {
   "cell_type": "code",
   "execution_count": 9,
   "id": "5fffca7c",
   "metadata": {},
   "outputs": [],
   "source": [
    "from sklearn.preprocessing import StandardScaler"
   ]
  },
  {
   "cell_type": "code",
   "execution_count": 10,
   "id": "6ce9f8ae",
   "metadata": {},
   "outputs": [],
   "source": [
    "sc = StandardScaler()\n",
    "train_sc = sc.fit_transform(train)\n",
    "test_sc = sc.transform(test)"
   ]
  },
  {
   "cell_type": "code",
   "execution_count": 11,
   "id": "51694026",
   "metadata": {},
   "outputs": [],
   "source": [
    "X_train = train_sc[:-1]\n",
    "y_train = train_sc[1:]\n",
    "\n",
    "X_test = test_sc[:-1]\n",
    "y_test = test_sc[1:]"
   ]
  },
  {
   "cell_type": "code",
   "execution_count": 12,
   "id": "91be514d",
   "metadata": {},
   "outputs": [
    {
     "data": {
      "text/plain": [
       "(3020, 1)"
      ]
     },
     "execution_count": 12,
     "metadata": {},
     "output_type": "execute_result"
    }
   ],
   "source": [
    "X_train.shape"
   ]
  },
  {
   "cell_type": "code",
   "execution_count": 13,
   "id": "6f75cc57",
   "metadata": {},
   "outputs": [
    {
     "data": {
      "text/plain": [
       "(2014, 1)"
      ]
     },
     "execution_count": 13,
     "metadata": {},
     "output_type": "execute_result"
    }
   ],
   "source": [
    "X_test.shape"
   ]
  },
  {
   "cell_type": "code",
   "execution_count": 20,
   "id": "7923f18d",
   "metadata": {},
   "outputs": [],
   "source": [
    "x_train = X_train.reshape(X_train.shape[0], 1, X_train.shape[1])\n",
    "x_test = X_test.reshape(X_test.shape[0], 1, X_test.shape[1])"
   ]
  },
  {
   "cell_type": "code",
   "execution_count": 25,
   "id": "d07f972e",
   "metadata": {},
   "outputs": [
    {
     "name": "stdout",
     "output_type": "stream",
     "text": [
      "Model: \"sequential\"\n",
      "_________________________________________________________________\n",
      " Layer (type)                Output Shape              Param #   \n",
      "=================================================================\n",
      " gru (GRU)                   (None, 7)                 210       \n",
      "                                                                 \n",
      " dense (Dense)               (None, 1)                 8         \n",
      "                                                                 \n",
      "=================================================================\n",
      "Total params: 218\n",
      "Trainable params: 218\n",
      "Non-trainable params: 0\n",
      "_________________________________________________________________\n"
     ]
    }
   ],
   "source": [
    "from keras.layers import GRU\n",
    "K.clear_session()\n",
    "model = Sequential()\n",
    "model.add(GRU(7, input_shape=(1, X_train.shape[1]), activation= 'relu', kernel_initializer='lecun_uniform', return_sequences=False))\n",
    "model.add(Dense(1))\n",
    "model.summary()"
   ]
  },
  {
   "cell_type": "code",
   "execution_count": null,
   "id": "ad3bce9a",
   "metadata": {},
   "outputs": [],
   "source": []
  },
  {
   "cell_type": "code",
   "execution_count": 26,
   "id": "34acfbd1",
   "metadata": {},
   "outputs": [
    {
     "name": "stdout",
     "output_type": "stream",
     "text": [
      "Epoch 1/100\n",
      "3020/3020 [==============================] - 42s 12ms/step - loss: 0.0065 - rmse: 0.0809\n",
      "Epoch 2/100\n",
      "3020/3020 [==============================] - 36s 12ms/step - loss: 0.0062 - rmse: 0.0788\n",
      "Epoch 3/100\n",
      "3020/3020 [==============================] - 36s 12ms/step - loss: 0.0063 - rmse: 0.0795\n",
      "Epoch 4/100\n",
      "3020/3020 [==============================] - 42s 14ms/step - loss: 0.0064 - rmse: 0.0798\n",
      "Epoch 5/100\n",
      "3020/3020 [==============================] - 39s 13ms/step - loss: 0.0064 - rmse: 0.0798\n",
      "Epoch 6/100\n",
      "3020/3020 [==============================] - 35s 12ms/step - loss: 0.0063 - rmse: 0.0796\n",
      "Epoch 7/100\n",
      "3020/3020 [==============================] - 34s 11ms/step - loss: 0.0064 - rmse: 0.0797\n",
      "Epoch 8/100\n",
      "3020/3020 [==============================] - 31s 10ms/step - loss: 0.0064 - rmse: 0.0798\n",
      "Epoch 9/100\n",
      "3020/3020 [==============================] - 31s 10ms/step - loss: 0.0064 - rmse: 0.0799\n",
      "Epoch 10/100\n",
      "3020/3020 [==============================] - 35s 12ms/step - loss: 0.0064 - rmse: 0.0798\n",
      "Epoch 11/100\n",
      "3020/3020 [==============================] - 37s 12ms/step - loss: 0.0064 - rmse: 0.0798\n",
      "Epoch 12/100\n",
      "3020/3020 [==============================] - 36s 12ms/step - loss: 0.0064 - rmse: 0.0798\n",
      "Epoch 12: early stopping\n"
     ]
    }
   ],
   "source": [
    "model.compile(loss=tf.keras.metrics.mean_squared_error,\n",
    "              metrics=[tf.keras.metrics.RootMeanSquaredError(name='rmse')], optimizer='adam')\n",
    "early_stop = EarlyStopping(monitor='loss', patience=10, verbose=1)\n",
    "history_model = model.fit(x_train, y_train, epochs=100, batch_size=1, verbose=1, shuffle=False, callbacks=[early_stop])"
   ]
  },
  {
   "cell_type": "code",
   "execution_count": 41,
   "id": "ce079950",
   "metadata": {},
   "outputs": [
    {
     "name": "stdout",
     "output_type": "stream",
     "text": [
      "63/63 [==============================] - 1s 10ms/step\n",
      "95/95 [==============================] - 1s 9ms/step\n",
      "The R2 score on the Train set is:\t0.848\n",
      "The  MAE on the Train set is:\t0.323\n",
      "The  RMSE on the Train set is:\t0.390\n",
      "The Adjusted R2 score on the Train set is:\t0.848\n",
      "\n",
      "The R2 score on the Test set is:\t0.994\n",
      "The Adjusted R2 score on the Test set is:\t0.994\n",
      "The  MAE on the Test set is:\t0.101\n",
      "The  RMSE on the Test set is:\t0.278\n"
     ]
    }
   ],
   "source": [
    "#GRU PREDICTION\n",
    "\n",
    "y_pred_test = model.predict(x_test)\n",
    "y_train_pred = model.predict(x_train)\n",
    "\n",
    "train_mse = metrics.mean_squared_error(y_train, y_train_pred)\n",
    "rmse_train = np.sqrt(train_mse)\n",
    "\n",
    "test_mse = metrics.mean_squared_error(y_test, y_pred_test)\n",
    "rmse_test = np.sqrt(test_mse)\n",
    "\n",
    "print(\"The R2 score on the Train set is:\\t{:0.3f}\".format(r2_score(y_train, y_train_pred)))\n",
    "print(\"The  MAE on the Train set is:\\t{:0.3f}\".format(metrics.mean_absolute_error(y_train, y_train_pred)))\n",
    "\n",
    "print(\"The  RMSE on the Train set is:\\t{:0.3f}\".format(rmse_train))\n",
    "r2_train = r2_score(y_train, y_train_pred)\n",
    "print(\"The Adjusted R2 score on the Train set is:\\t{:0.3f}\\n\".format(adj_r2_score(r2_train, X_train.shape[0], X_train.shape[1])))\n",
    "print(\"The R2 score on the Test set is:\\t{:0.3f}\".format(r2_score(y_test, y_pred_test)))\n",
    "r2_test = r2_score(y_test, y_pred_test)\n",
    "print(\"The Adjusted R2 score on the Test set is:\\t{:0.3f}\".format(adj_r2_score(r2_test, X_test.shape[0], X_test.shape[1])))\n",
    "print(\"The  MAE on the Test set is:\\t{:0.3f}\".format(metrics.mean_absolute_error(y_test, y_pred_test)))\n",
    "print(\"The  RMSE on the Test set is:\\t{:0.3f}\".format(rmse_test))"
   ]
  },
  {
   "cell_type": "code",
   "execution_count": 28,
   "id": "06b57e6e",
   "metadata": {},
   "outputs": [
    {
     "data": {
      "text/plain": [
       "array([[198.94348],\n",
       "       [198.84413],\n",
       "       [197.47578],\n",
       "       ...,\n",
       "       [460.35382],\n",
       "       [459.36993],\n",
       "       [458.21893]], dtype=float32)"
      ]
     },
     "execution_count": 28,
     "metadata": {},
     "output_type": "execute_result"
    }
   ],
   "source": [
    "inv_yhat = sc.inverse_transform(y_pred_test)\n",
    "\n",
    "inv_yhat"
   ]
  },
  {
   "cell_type": "code",
   "execution_count": 29,
   "id": "84544271",
   "metadata": {},
   "outputs": [
    {
     "data": {
      "text/plain": [
       "array([[198.800003],\n",
       "       [197.419998],\n",
       "       [198.899994],\n",
       "       ...,\n",
       "       [461.      ],\n",
       "       [459.829987],\n",
       "       [459.809998]])"
      ]
     },
     "execution_count": 29,
     "metadata": {},
     "output_type": "execute_result"
    }
   ],
   "source": [
    "inv_ytest = sc.inverse_transform(y_test)\n",
    "\n",
    "inv_ytest"
   ]
  },
  {
   "cell_type": "code",
   "execution_count": 30,
   "id": "4706ddc1",
   "metadata": {},
   "outputs": [
    {
     "data": {
      "text/plain": [
       "0.07712459248028142"
      ]
     },
     "execution_count": 30,
     "metadata": {},
     "output_type": "execute_result"
    }
   ],
   "source": [
    "from sklearn. metrics import mean_squared_error\n",
    "mean_squared_error(y_test, y_pred_test)"
   ]
  },
  {
   "cell_type": "code",
   "execution_count": 31,
   "id": "d59be07e",
   "metadata": {},
   "outputs": [
    {
     "data": {
      "image/png": "[encoded data removed]",
      "text/plain": [
       "<Figure size 864x576 with 1 Axes>"
      ]
     },
     "metadata": {
      "needs_background": "light"
     },
     "output_type": "display_data"
    }
   ],
   "source": [
    "#LSTM PREDICTION PLOT\n",
    "\n",
    "plt.figure(figsize=(12,8))\n",
    "plt.plot(y_test, label='True')\n",
    "plt.plot(y_pred_test, label='GRU')\n",
    "plt.title(\"GRU's_Prediction\")\n",
    "plt.xlabel('Observation')\n",
    "plt.ylabel('NGN_Scaled')\n",
    "plt.legend()\n",
    "plt.show()"
   ]
  },
  {
   "cell_type": "code",
   "execution_count": 32,
   "id": "6c60a931",
   "metadata": {},
   "outputs": [
    {
     "name": "stdout",
     "output_type": "stream",
     "text": [
      "The R2 score on the Test set is:\t0.994\n",
      "The Adjusted R2 score on the Test set is:\t0.994\n",
      "The  MAE on the Test set is:\t1.982\n",
      "The  RMSE on the Test set is:\t5.465\n"
     ]
    }
   ],
   "source": [
    "test_mse = metrics.mean_squared_error(inv_ytest, inv_yhat)\n",
    "rmse_test = np.sqrt(test_mse)\n",
    "\n",
    "\n",
    "print(\"The R2 score on the Test set is:\\t{:0.3f}\".format(r2_score(inv_ytest, inv_yhat)))\n",
    "r2_test = r2_score(inv_ytest, inv_yhat)\n",
    "print(\"The Adjusted R2 score on the Test set is:\\t{:0.3f}\".format(adj_r2_score(r2_test, X_test.shape[0], X_test.shape[1])))\n",
    "print(\"The  MAE on the Test set is:\\t{:0.3f}\".format(metrics.mean_absolute_error(inv_ytest, inv_yhat)))\n",
    "print(\"The  RMSE on the Test set is:\\t{:0.3f}\".format(rmse_test))"
   ]
  },
  {
   "cell_type": "code",
   "execution_count": 33,
   "id": "d7006260",
   "metadata": {},
   "outputs": [
    {
     "data": {
      "text/html": [
       "<div>\n",
       "<style scoped>\n",
       "    .dataframe tbody tr th:only-of-type {\n",
       "        vertical-align: middle;\n",
       "    }\n",
       "\n",
       "    .dataframe tbody tr th {\n",
       "        vertical-align: top;\n",
       "    }\n",
       "\n",
       "    .dataframe thead th {\n",
       "        text-align: right;\n",
       "    }\n",
       "</style>\n",
       "<table border=\"1\" class=\"dataframe\">\n",
       "  <thead>\n",
       "    <tr style=\"text-align: right;\">\n",
       "      <th></th>\n",
       "      <th>Close</th>\n",
       "    </tr>\n",
       "    <tr>\n",
       "      <th>Date</th>\n",
       "      <th></th>\n",
       "    </tr>\n",
       "  </thead>\n",
       "  <tbody>\n",
       "    <tr>\n",
       "      <th>2015-07-16</th>\n",
       "      <td>198.899994</td>\n",
       "    </tr>\n",
       "    <tr>\n",
       "      <th>2015-07-17</th>\n",
       "      <td>198.800003</td>\n",
       "    </tr>\n",
       "    <tr>\n",
       "      <th>2015-07-20</th>\n",
       "      <td>197.419998</td>\n",
       "    </tr>\n",
       "    <tr>\n",
       "      <th>2015-07-21</th>\n",
       "      <td>198.899994</td>\n",
       "    </tr>\n",
       "    <tr>\n",
       "      <th>2015-07-22</th>\n",
       "      <td>198.949997</td>\n",
       "    </tr>\n",
       "  </tbody>\n",
       "</table>\n",
       "</div>"
      ],
      "text/plain": [
       "                 Close\n",
       "Date                  \n",
       "2015-07-16  198.899994\n",
       "2015-07-17  198.800003\n",
       "2015-07-20  197.419998\n",
       "2015-07-21  198.899994\n",
       "2015-07-22  198.949997"
      ]
     },
     "execution_count": 33,
     "metadata": {},
     "output_type": "execute_result"
    }
   ],
   "source": [
    "test.head()"
   ]
  },
  {
   "cell_type": "code",
   "execution_count": 34,
   "id": "5b2552a2",
   "metadata": {},
   "outputs": [],
   "source": [
    "col1 = pd.DataFrame(inv_ytest, columns=['Close'])\n",
    "\n",
    "col2 = pd.DataFrame(inv_yhat, columns=['GRU_prediction'])\n",
    "\n",
    "col3 = pd.DataFrame(history_model.history['rmse'], columns=['RMSE'])\n",
    "results = pd.concat([col1, col2, col3], axis=1)\n",
    "results.to_csv('Prediction_USD_NGN_GRU.xlsx')"
   ]
  },
  {
   "cell_type": "code",
   "execution_count": 35,
   "id": "cdbb6c2b",
   "metadata": {},
   "outputs": [
    {
     "data": {
      "text/html": [
       "<div>\n",
       "<style scoped>\n",
       "    .dataframe tbody tr th:only-of-type {\n",
       "        vertical-align: middle;\n",
       "    }\n",
       "\n",
       "    .dataframe tbody tr th {\n",
       "        vertical-align: top;\n",
       "    }\n",
       "\n",
       "    .dataframe thead th {\n",
       "        text-align: right;\n",
       "    }\n",
       "</style>\n",
       "<table border=\"1\" class=\"dataframe\">\n",
       "  <thead>\n",
       "    <tr style=\"text-align: right;\">\n",
       "      <th></th>\n",
       "      <th>Close</th>\n",
       "      <th>GRU_prediction</th>\n",
       "      <th>RMSE</th>\n",
       "    </tr>\n",
       "  </thead>\n",
       "  <tbody>\n",
       "    <tr>\n",
       "      <th>0</th>\n",
       "      <td>198.800003</td>\n",
       "      <td>198.943481</td>\n",
       "      <td>0.080926</td>\n",
       "    </tr>\n",
       "    <tr>\n",
       "      <th>1</th>\n",
       "      <td>197.419998</td>\n",
       "      <td>198.844131</td>\n",
       "      <td>0.078809</td>\n",
       "    </tr>\n",
       "    <tr>\n",
       "      <th>2</th>\n",
       "      <td>198.899994</td>\n",
       "      <td>197.475784</td>\n",
       "      <td>0.079456</td>\n",
       "    </tr>\n",
       "    <tr>\n",
       "      <th>3</th>\n",
       "      <td>198.949997</td>\n",
       "      <td>198.943481</td>\n",
       "      <td>0.079764</td>\n",
       "    </tr>\n",
       "    <tr>\n",
       "      <th>4</th>\n",
       "      <td>198.850006</td>\n",
       "      <td>198.993195</td>\n",
       "      <td>0.079818</td>\n",
       "    </tr>\n",
       "  </tbody>\n",
       "</table>\n",
       "</div>"
      ],
      "text/plain": [
       "        Close  GRU_prediction      RMSE\n",
       "0  198.800003      198.943481  0.080926\n",
       "1  197.419998      198.844131  0.078809\n",
       "2  198.899994      197.475784  0.079456\n",
       "3  198.949997      198.943481  0.079764\n",
       "4  198.850006      198.993195  0.079818"
      ]
     },
     "execution_count": 35,
     "metadata": {},
     "output_type": "execute_result"
    }
   ],
   "source": [
    "results.head()"
   ]
  },
  {
   "cell_type": "code",
   "execution_count": 36,
   "id": "b86618f7",
   "metadata": {},
   "outputs": [
    {
     "data": {
      "text/html": [
       "<div>\n",
       "<style scoped>\n",
       "    .dataframe tbody tr th:only-of-type {\n",
       "        vertical-align: middle;\n",
       "    }\n",
       "\n",
       "    .dataframe tbody tr th {\n",
       "        vertical-align: top;\n",
       "    }\n",
       "\n",
       "    .dataframe thead th {\n",
       "        text-align: right;\n",
       "    }\n",
       "</style>\n",
       "<table border=\"1\" class=\"dataframe\">\n",
       "  <thead>\n",
       "    <tr style=\"text-align: right;\">\n",
       "      <th></th>\n",
       "      <th>Date</th>\n",
       "      <th>Close</th>\n",
       "    </tr>\n",
       "  </thead>\n",
       "  <tbody>\n",
       "    <tr>\n",
       "      <th>0</th>\n",
       "      <td>2015-07-16</td>\n",
       "      <td>198.899994</td>\n",
       "    </tr>\n",
       "    <tr>\n",
       "      <th>1</th>\n",
       "      <td>2015-07-17</td>\n",
       "      <td>198.800003</td>\n",
       "    </tr>\n",
       "    <tr>\n",
       "      <th>2</th>\n",
       "      <td>2015-07-20</td>\n",
       "      <td>197.419998</td>\n",
       "    </tr>\n",
       "    <tr>\n",
       "      <th>3</th>\n",
       "      <td>2015-07-21</td>\n",
       "      <td>198.899994</td>\n",
       "    </tr>\n",
       "    <tr>\n",
       "      <th>4</th>\n",
       "      <td>2015-07-22</td>\n",
       "      <td>198.949997</td>\n",
       "    </tr>\n",
       "  </tbody>\n",
       "</table>\n",
       "</div>"
      ],
      "text/plain": [
       "        Date       Close\n",
       "0 2015-07-16  198.899994\n",
       "1 2015-07-17  198.800003\n",
       "2 2015-07-20  197.419998\n",
       "3 2015-07-21  198.899994\n",
       "4 2015-07-22  198.949997"
      ]
     },
     "execution_count": 36,
     "metadata": {},
     "output_type": "execute_result"
    }
   ],
   "source": [
    "test.reset_index(level=0, inplace=True)\n",
    "test.head()"
   ]
  },
  {
   "cell_type": "code",
   "execution_count": 37,
   "id": "555be6c1",
   "metadata": {},
   "outputs": [],
   "source": [
    "dfinal = test.merge(results, how='inner', left_on='Close', right_on='Close')"
   ]
  },
  {
   "cell_type": "code",
   "execution_count": 38,
   "id": "36087808",
   "metadata": {},
   "outputs": [
    {
     "data": {
      "text/html": [
       "<div>\n",
       "<style scoped>\n",
       "    .dataframe tbody tr th:only-of-type {\n",
       "        vertical-align: middle;\n",
       "    }\n",
       "\n",
       "    .dataframe tbody tr th {\n",
       "        vertical-align: top;\n",
       "    }\n",
       "\n",
       "    .dataframe thead th {\n",
       "        text-align: right;\n",
       "    }\n",
       "</style>\n",
       "<table border=\"1\" class=\"dataframe\">\n",
       "  <thead>\n",
       "    <tr style=\"text-align: right;\">\n",
       "      <th></th>\n",
       "      <th>Date</th>\n",
       "      <th>Close</th>\n",
       "      <th>GRU_prediction</th>\n",
       "      <th>RMSE</th>\n",
       "    </tr>\n",
       "  </thead>\n",
       "  <tbody>\n",
       "    <tr>\n",
       "      <th>0</th>\n",
       "      <td>2015-07-16</td>\n",
       "      <td>198.899994</td>\n",
       "      <td>197.475784</td>\n",
       "      <td>0.079456</td>\n",
       "    </tr>\n",
       "    <tr>\n",
       "      <th>22</th>\n",
       "      <td>2015-07-21</td>\n",
       "      <td>198.899994</td>\n",
       "      <td>197.475784</td>\n",
       "      <td>0.079456</td>\n",
       "    </tr>\n",
       "    <tr>\n",
       "      <th>44</th>\n",
       "      <td>2015-07-27</td>\n",
       "      <td>198.899994</td>\n",
       "      <td>197.475784</td>\n",
       "      <td>0.079456</td>\n",
       "    </tr>\n",
       "    <tr>\n",
       "      <th>66</th>\n",
       "      <td>2015-07-28</td>\n",
       "      <td>198.899994</td>\n",
       "      <td>197.475784</td>\n",
       "      <td>0.079456</td>\n",
       "    </tr>\n",
       "    <tr>\n",
       "      <th>88</th>\n",
       "      <td>2015-08-14</td>\n",
       "      <td>198.899994</td>\n",
       "      <td>197.475784</td>\n",
       "      <td>0.079456</td>\n",
       "    </tr>\n",
       "    <tr>\n",
       "      <th>...</th>\n",
       "      <td>...</td>\n",
       "      <td>...</td>\n",
       "      <td>...</td>\n",
       "      <td>...</td>\n",
       "    </tr>\n",
       "    <tr>\n",
       "      <th>53682</th>\n",
       "      <td>2023-04-05</td>\n",
       "      <td>462.000000</td>\n",
       "      <td>459.369934</td>\n",
       "      <td>NaN</td>\n",
       "    </tr>\n",
       "    <tr>\n",
       "      <th>53684</th>\n",
       "      <td>2023-03-31</td>\n",
       "      <td>459.000000</td>\n",
       "      <td>454.451935</td>\n",
       "      <td>NaN</td>\n",
       "    </tr>\n",
       "    <tr>\n",
       "      <th>53685</th>\n",
       "      <td>2023-04-03</td>\n",
       "      <td>459.839996</td>\n",
       "      <td>457.402466</td>\n",
       "      <td>NaN</td>\n",
       "    </tr>\n",
       "    <tr>\n",
       "      <th>53686</th>\n",
       "      <td>2023-04-04</td>\n",
       "      <td>459.829987</td>\n",
       "      <td>458.228790</td>\n",
       "      <td>NaN</td>\n",
       "    </tr>\n",
       "    <tr>\n",
       "      <th>53688</th>\n",
       "      <td>2023-04-07</td>\n",
       "      <td>459.829987</td>\n",
       "      <td>458.228790</td>\n",
       "      <td>NaN</td>\n",
       "    </tr>\n",
       "  </tbody>\n",
       "</table>\n",
       "<p>1985 rows × 4 columns</p>\n",
       "</div>"
      ],
      "text/plain": [
       "            Date       Close  GRU_prediction      RMSE\n",
       "0     2015-07-16  198.899994      197.475784  0.079456\n",
       "22    2015-07-21  198.899994      197.475784  0.079456\n",
       "44    2015-07-27  198.899994      197.475784  0.079456\n",
       "66    2015-07-28  198.899994      197.475784  0.079456\n",
       "88    2015-08-14  198.899994      197.475784  0.079456\n",
       "...          ...         ...             ...       ...\n",
       "53682 2023-04-05  462.000000      459.369934       NaN\n",
       "53684 2023-03-31  459.000000      454.451935       NaN\n",
       "53685 2023-04-03  459.839996      457.402466       NaN\n",
       "53686 2023-04-04  459.829987      458.228790       NaN\n",
       "53688 2023-04-07  459.829987      458.228790       NaN\n",
       "\n",
       "[1985 rows x 4 columns]"
      ]
     },
     "execution_count": 38,
     "metadata": {},
     "output_type": "execute_result"
    }
   ],
   "source": [
    "dfinal.drop_duplicates(subset=\"Date\",inplace=True)\n",
    "\n",
    "\n",
    "dfinal.head(2000)"
   ]
  },
  {
   "cell_type": "code",
   "execution_count": 39,
   "id": "1ce4db7e",
   "metadata": {},
   "outputs": [
    {
     "data": {
      "image/png": "[encoded data removed]",
      "text/plain": [
       "<Figure size 864x576 with 1 Axes>"
      ]
     },
     "metadata": {
      "needs_background": "light"
     },
     "output_type": "display_data"
    }
   ],
   "source": [
    "plt.figure(figsize=(12,8))\n",
    "price_date = dfinal['Date']\n",
    "price_true = dfinal['Close']\n",
    "price_pred = dfinal['GRU_prediction']\n",
    "plt.plot_date(price_date, price_true,label='Actual Price')\n",
    "plt.plot_date(price_date, price_pred,label='Predicted Price')\n",
    "plt.legend()\n",
    "plt.show()"
   ]
  },
  {
   "cell_type": "code",
   "execution_count": 40,
   "id": "5da41695",
   "metadata": {},
   "outputs": [
    {
     "data": {
      "text/html": [
       "<div>\n",
       "<style scoped>\n",
       "    .dataframe tbody tr th:only-of-type {\n",
       "        vertical-align: middle;\n",
       "    }\n",
       "\n",
       "    .dataframe tbody tr th {\n",
       "        vertical-align: top;\n",
       "    }\n",
       "\n",
       "    .dataframe thead th {\n",
       "        text-align: right;\n",
       "    }\n",
       "</style>\n",
       "<table border=\"1\" class=\"dataframe\">\n",
       "  <thead>\n",
       "    <tr style=\"text-align: right;\">\n",
       "      <th></th>\n",
       "      <th>Close</th>\n",
       "      <th>GRU_prediction</th>\n",
       "      <th>RMSE</th>\n",
       "    </tr>\n",
       "  </thead>\n",
       "  <tbody>\n",
       "    <tr>\n",
       "      <th>count</th>\n",
       "      <td>1985.000000</td>\n",
       "      <td>1985.000000</td>\n",
       "      <td>73.000000</td>\n",
       "    </tr>\n",
       "    <tr>\n",
       "      <th>mean</th>\n",
       "      <td>351.547069</td>\n",
       "      <td>350.063293</td>\n",
       "      <td>0.079840</td>\n",
       "    </tr>\n",
       "    <tr>\n",
       "      <th>std</th>\n",
       "      <td>67.970868</td>\n",
       "      <td>67.387535</td>\n",
       "      <td>0.000494</td>\n",
       "    </tr>\n",
       "    <tr>\n",
       "      <th>min</th>\n",
       "      <td>189.220001</td>\n",
       "      <td>189.484116</td>\n",
       "      <td>0.078809</td>\n",
       "    </tr>\n",
       "    <tr>\n",
       "      <th>25%</th>\n",
       "      <td>322.000000</td>\n",
       "      <td>320.216827</td>\n",
       "      <td>0.079456</td>\n",
       "    </tr>\n",
       "    <tr>\n",
       "      <th>50%</th>\n",
       "      <td>360.000000</td>\n",
       "      <td>360.807312</td>\n",
       "      <td>0.079764</td>\n",
       "    </tr>\n",
       "    <tr>\n",
       "      <th>75%</th>\n",
       "      <td>389.510010</td>\n",
       "      <td>386.761353</td>\n",
       "      <td>0.079818</td>\n",
       "    </tr>\n",
       "    <tr>\n",
       "      <th>max</th>\n",
       "      <td>462.000000</td>\n",
       "      <td>459.369934</td>\n",
       "      <td>0.080926</td>\n",
       "    </tr>\n",
       "  </tbody>\n",
       "</table>\n",
       "</div>"
      ],
      "text/plain": [
       "             Close  GRU_prediction       RMSE\n",
       "count  1985.000000     1985.000000  73.000000\n",
       "mean    351.547069      350.063293   0.079840\n",
       "std      67.970868       67.387535   0.000494\n",
       "min     189.220001      189.484116   0.078809\n",
       "25%     322.000000      320.216827   0.079456\n",
       "50%     360.000000      360.807312   0.079764\n",
       "75%     389.510010      386.761353   0.079818\n",
       "max     462.000000      459.369934   0.080926"
      ]
     },
     "execution_count": 40,
     "metadata": {},
     "output_type": "execute_result"
    }
   ],
   "source": [
    "dfinal.describe()"
   ]
  },
  {
   "cell_type": "code",
   "execution_count": 42,
   "id": "f320934a",
   "metadata": {},
   "outputs": [],
   "source": [
    "#SAVING TRAINED MODEL\n",
    "\n",
    "from tensorflow.keras.models import save_model\n",
    "save_model(model, 'GRUmodel.h5')"
   ]
  },
  {
   "cell_type": "code",
   "execution_count": 43,
   "id": "d44f17e3",
   "metadata": {},
   "outputs": [
    {
     "name": "stdout",
     "output_type": "stream",
     "text": [
      "INFO:tensorflow:Assets written to: GRUmodel\\assets\n"
     ]
    }
   ],
   "source": [
    "model.save('GRUmodel')"
   ]
  },
  {
   "cell_type": "code",
   "execution_count": 44,
   "id": "6fde53a7",
   "metadata": {},
   "outputs": [
    {
     "name": "stdout",
     "output_type": "stream",
     "text": [
      "Model: \"sequential\"\n",
      "_________________________________________________________________\n",
      " Layer (type)                Output Shape              Param #   \n",
      "=================================================================\n",
      " gru (GRU)                   (None, 7)                 210       \n",
      "                                                                 \n",
      " dense (Dense)               (None, 1)                 8         \n",
      "                                                                 \n",
      "=================================================================\n",
      "Total params: 218\n",
      "Trainable params: 218\n",
      "Non-trainable params: 0\n",
      "_________________________________________________________________\n"
     ]
    }
   ],
   "source": [
    "# LOADING THE TRAINED MODEL\n",
    "\n",
    "from tensorflow.keras.models import load_model\n",
    "model = load_model('GRUmodel.h5')\n",
    "model.summary()"
   ]
  },
  {
   "cell_type": "code",
   "execution_count": null,
   "id": "a527e85a",
   "metadata": {},
   "outputs": [],
   "source": []
  }
 ],
 "metadata": {
  "kernelspec": {
   "display_name": "foreignexchange",
   "language": "python",
   "name": "foreignexchange"
  },
  "language_info": {
   "codemirror_mode": {
    "name": "ipython",
    "version": 3
   },
   "file_extension": ".py",
   "mimetype": "text/x-python",
   "name": "python",
   "nbconvert_exporter": "python",
   "pygments_lexer": "ipython3",
   "version": "3.10.5"
  }
 },
 "nbformat": 4,
 "nbformat_minor": 5
}
